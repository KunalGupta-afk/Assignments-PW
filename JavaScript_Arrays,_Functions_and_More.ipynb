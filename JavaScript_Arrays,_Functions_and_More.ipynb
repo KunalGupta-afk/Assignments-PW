{
  "nbformat": 4,
  "nbformat_minor": 0,
  "metadata": {
    "colab": {
      "provenance": []
    },
    "kernelspec": {
      "name": "python3",
      "display_name": "Python 3"
    },
    "language_info": {
      "name": "python"
    }
  },
  "cells": [
    {
      "cell_type": "markdown",
      "source": [
        "**Question 1** :\n",
        "\n",
        "Create an object named student with the following properties:\n",
        "\n",
        "\n",
        "*   name: \"Rahul\"\n",
        "*   age: 21\n",
        "*   courses: an array containing \"Math\", \"Physics\", and \"Chemistry\"\n",
        "\n",
        "\n",
        "   Then, perform the following operations:\n",
        "1.   Add a new property grade with the value \"A\".\n",
        "2.   Update the age to 22.\n",
        "3.   Delete the courses property.\n",
        "\n",
        "**Answer**:\n"
      ],
      "metadata": {
        "id": "uA58VHC3PZIk"
      }
    },
    {
      "cell_type": "code",
      "execution_count": null,
      "metadata": {
        "id": "D32bliCvPFhi"
      },
      "outputs": [],
      "source": [
        "let student = {\n",
        "  name: \"Rahul\",\n",
        "  age: 21,\n",
        "  courses: [\"Math\", \"Physics\", \"Chemistry\"]\n",
        "};\n",
        "\n",
        "// 1. Add grade\n",
        "student.grade = \"A\";\n",
        "\n",
        "// 2. Update age\n",
        "student.age = 22;\n",
        "\n",
        "// 3. Delete courses\n",
        "delete student.courses;\n",
        "\n",
        "console.log(student);"
      ]
    },
    {
      "cell_type": "markdown",
      "source": [
        "**Question 2**:\n",
        "\n",
        "Write a function checkEligibility that takes an age as a parameter\n",
        "and returns:\n",
        "\n",
        "\n",
        "*   \"Eligible\" if age is 18 or above\n",
        "*   \"Not Eligible\" if age is below 18\n",
        "\n",
        "\n",
        "Use an if-else statement.\n",
        "\n",
        "**Answer**:"
      ],
      "metadata": {
        "id": "73YLj4qIQRM-"
      }
    },
    {
      "cell_type": "code",
      "source": [
        "function checkEligibility(age) {\n",
        "  if (age >= 18) {\n",
        "    return \"Eligible\";\n",
        "  } else {\n",
        "    return \"Not Eligible\";\n",
        "  }\n",
        "}"
      ],
      "metadata": {
        "id": "tt7HwXCFQXal"
      },
      "execution_count": null,
      "outputs": []
    },
    {
      "cell_type": "markdown",
      "source": [
        "**Question 3**:\n",
        "\n",
        "Write a function getDayName that takes a number (1-7) and returns the\n",
        "corresponding day of the week. Use a switch statement.\n",
        "\n",
        "**Answer**:"
      ],
      "metadata": {
        "id": "ch6RkHUkQmL1"
      }
    },
    {
      "cell_type": "code",
      "source": [
        "function getDayName(number) {\n",
        "  switch (number) {\n",
        "    case 1: return \"Sunday\";\n",
        "    case 2: return \"Monday\";\n",
        "    case 3: return \"Tuesday\";\n",
        "    case 4: return \"Wednesday\";\n",
        "    case 5: return \"Thursday\";\n",
        "    case 6: return \"Friday\";\n",
        "    case 7: return \"Saturday\";\n",
        "    default: return \"Invalid number\";\n",
        "  }\n",
        "}"
      ],
      "metadata": {
        "id": "oMeoovTwQrV5"
      },
      "execution_count": null,
      "outputs": []
    },
    {
      "cell_type": "markdown",
      "source": [
        "**Question 4**:\n",
        "\n",
        "Rewrite the checkEligibility function from Question 2 using the\n",
        "ternary operator.\n",
        "\n",
        "**Answer**:"
      ],
      "metadata": {
        "id": "EsYbT_Q1QyDq"
      }
    },
    {
      "cell_type": "code",
      "source": [
        "function checkEligibility(age) {\n",
        "  return age >= 18 ? \"Eligible\" : \"Not Eligible\";\n",
        "}"
      ],
      "metadata": {
        "id": "9QZfDoRXQ3ia"
      },
      "execution_count": null,
      "outputs": []
    },
    {
      "cell_type": "markdown",
      "source": [
        "**Question 5**:\n",
        "\n",
        "Given an array numbers = [1, 2, 3, 4, 5], perform the following:\n",
        "1. Use a for loop to print each number.\n",
        "2. Use a while loop to print each number.\n",
        "3. Use a for-in loop to print each index.\n",
        "4. Use a for-of loop to print each number.\n",
        "\n",
        "**Answer**:"
      ],
      "metadata": {
        "id": "-LcwAgG4RVr4"
      }
    },
    {
      "cell_type": "code",
      "source": [
        "const numbers = [1, 2, 3, 4, 5];\n",
        "\n",
        "// 1. For loop\n",
        "for (let i = 0; i < numbers.length; i++) {\n",
        "  console.log(numbers[i]);\n",
        "}\n",
        "\n",
        "// 2. While loop\n",
        "let i = 0;\n",
        "while (i < numbers.length) {\n",
        "  console.log(numbers[i]);\n",
        "  i++;\n",
        "}\n",
        "\n",
        "// 3. For-in loop (indexes)\n",
        "for (let index in numbers) {\n",
        "  console.log(index);\n",
        "}\n",
        "\n",
        "// 4. For-of loop (values)\n",
        "for (let num of numbers) {\n",
        "  console.log(num);\n",
        "}"
      ],
      "metadata": {
        "id": "wzrkVcDsRZOy"
      },
      "execution_count": null,
      "outputs": []
    },
    {
      "cell_type": "markdown",
      "source": [
        "**Question 6**:\n",
        "\n",
        "Explain what functions are in JavaScript and provide an example of a\n",
        "function that adds two numbers.\n",
        "\n",
        "**Answer**:\n",
        "\n",
        "Functions are reusable blocks of code that perform a specific task. They help structure code better and promote reusability.\n"
      ],
      "metadata": {
        "id": "fWhFMZ4aRl2y"
      }
    },
    {
      "cell_type": "code",
      "source": [
        "function add(a, b) {\n",
        "  return a + b;\n",
        "}"
      ],
      "metadata": {
        "id": "U2hi2hMBRoey"
      },
      "execution_count": null,
      "outputs": []
    },
    {
      "cell_type": "markdown",
      "source": [
        "**Question 7**:\n",
        "\n",
        "Convert the add function from Question 6 into an arrow function.\n",
        "\n",
        "**Answer**:"
      ],
      "metadata": {
        "id": "OQF_MsI5RzTq"
      }
    },
    {
      "cell_type": "code",
      "source": [
        "const add = (a, b) => a + b;"
      ],
      "metadata": {
        "id": "8Qi25ctOR2o8"
      },
      "execution_count": null,
      "outputs": []
    },
    {
      "cell_type": "markdown",
      "source": [
        "**Question 8**:\n",
        "\n",
        "Write a function greet that takes a name and a callback function. The\n",
        "greet function should call the callback with the name.\n",
        "\n",
        "**Answer**:"
      ],
      "metadata": {
        "id": "e3RY-odCR9NN"
      }
    },
    {
      "cell_type": "code",
      "source": [
        "function greet(name, callback) {\n",
        "  callback(name);\n",
        "}\n",
        "\n",
        "// Example usage:\n",
        "greet(\"Kunal\", function(name) {\n",
        "  console.log(\"Hello, \" + name + \"!\");\n",
        "});"
      ],
      "metadata": {
        "id": "Iol_ZzTRR_yU"
      },
      "execution_count": null,
      "outputs": []
    },
    {
      "cell_type": "markdown",
      "source": [
        "**Question 9**:\n",
        "\n",
        "Given the array:\n",
        "const fruits = [\"apple\", \"banana\", \"cherry\"];\n",
        "1. What is the length of the array?\n",
        "2. Add \"date\" to the end of the array using the length property.\n",
        "\n",
        "**Answer**:"
      ],
      "metadata": {
        "id": "SPb-AJq_SMdb"
      }
    },
    {
      "cell_type": "code",
      "source": [
        "const fruits = [\"apple\", \"banana\", \"cherry\"];\n",
        "\n",
        "// 1. Length of array\n",
        "console.log(fruits.length); // 3\n",
        "\n",
        "// 2. Add \"date\" using length\n",
        "fruits[fruits.length] = \"date\";\n",
        "\n",
        "console.log(fruits); // [\"apple\", \"banana\", \"cherry\", \"date\"]"
      ],
      "metadata": {
        "id": "slLiol4LSRe4"
      },
      "execution_count": null,
      "outputs": []
    },
    {
      "cell_type": "markdown",
      "source": [
        "**Question 10**:\n",
        "\n",
        "Given the string text = \" Hello World! \", perform the following:\n",
        "1. Trim the whitespace.\n",
        "2. Convert to uppercase.\n",
        "3. Check if it includes \"World\".\n",
        "\n",
        "**Answer**:"
      ],
      "metadata": {
        "id": "ZEcGwoqESX8P"
      }
    },
    {
      "cell_type": "code",
      "source": [
        "let text = \" Hello World! \";\n",
        "\n",
        "// 1. Trim whitespace\n",
        "let trimmed = text.trim();\n",
        "\n",
        "// 2. Convert to uppercase\n",
        "let upper = trimmed.toUpperCase();\n",
        "\n",
        "// 3. Check if it includes \"World\"\n",
        "let hasWorld = trimmed.includes(\"World\");\n",
        "\n",
        "console.log(trimmed);  // \"Hello World!\"\n",
        "console.log(upper);    // \"HELLO WORLD!\"\n",
        "console.log(hasWorld); // true"
      ],
      "metadata": {
        "id": "lhy6-mO6Sa1g"
      },
      "execution_count": null,
      "outputs": []
    },
    {
      "cell_type": "markdown",
      "source": [
        "**Question 11**:\n",
        "\n",
        "Given the array numbers = [1, 2, 3, 4, 5], perform the following:\n",
        "1. Add 6 to the end.\n",
        "2. Remove the first element.\n",
        "3. Find the index of 4.\n",
        "4. Check if all numbers are greater than 0.\n",
        "\n",
        "**Answer**:"
      ],
      "metadata": {
        "id": "_m8B3Q-RSlV4"
      }
    },
    {
      "cell_type": "code",
      "source": [
        "let numbers = [1, 2, 3, 4, 5];\n",
        "\n",
        "// 1. Add 6 to end\n",
        "numbers.push(6);\n",
        "\n",
        "// 2. Remove first element\n",
        "numbers.shift();\n",
        "\n",
        "// 3. Find index of 4\n",
        "let index = numbers.indexOf(4);\n",
        "\n",
        "// 4. Check if all numbers are > 0\n",
        "let allPositive = numbers.every(num => num > 0);\n",
        "\n",
        "console.log(numbers);      // [2, 3, 4, 5, 6]\n",
        "console.log(index);        // 2\n",
        "console.log(allPositive);  // true"
      ],
      "metadata": {
        "id": "02SgrCgoSpSl"
      },
      "execution_count": null,
      "outputs": []
    }
  ]
}