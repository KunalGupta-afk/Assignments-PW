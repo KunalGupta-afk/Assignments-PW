{
  "nbformat": 4,
  "nbformat_minor": 0,
  "metadata": {
    "colab": {
      "provenance": []
    },
    "kernelspec": {
      "name": "python3",
      "display_name": "Python 3"
    },
    "language_info": {
      "name": "python"
    }
  },
  "cells": [
    {
      "cell_type": "markdown",
      "source": [
        "**Question1**:\n",
        "\n",
        "Explain the purpose of version control systems like Git. Why are they essential in modern software development?\n",
        "\n",
        "**Answer**:\n",
        "\n",
        "Version control systems like Git help developers track and manage changes to code over time. They allow multiple developers to collaborate on the same project without overwriting each other's work. Git also provides the ability to revert to previous versions, create branches for new features, and merge code efficiently. This makes software development more organized, reliable, and collaborative.\n",
        "\n",
        "**Question 2**:\n",
        "\n",
        "List the typical steps you would follow when working with Git to make changes to a project and share them on GitHub.\n",
        "\n",
        "**Answer**:\n",
        "\n",
        "\n",
        "\n",
        "1.   Clone the repository: git clone <repository-url>\n",
        "2.   Create or switch to a new branch: git checkout -b branch-name\n",
        "3.   Make changes to the code/files.\n",
        "4.   Stage the changes: git add .\n",
        "5.   Commit the changes: git commit -m \"Meaningful message\"\n",
        "6.   Push the changes to GitHub: git push origin branch-name\n",
        "7.   Open a Pull Request on GitHub (optional for review before merging)."
      ],
      "metadata": {
        "id": "nLaHVaOQLM1Y"
      }
    },
    {
      "cell_type": "markdown",
      "source": [
        "**Question 3**:\n",
        "\n",
        "What is the purpose of a .gitignore file in a Git repository? Provide an example of how to ignore all .log files.\n",
        "\n",
        "**Answer**:\n",
        "\n",
        "A .gitignore file tells Git which files or folders to ignore (not track or commit). This is useful for ignoring temporary files, build outputs, secrets, etc.\n",
        "\n",
        "Example to ignore all .log files and node_modules folder:"
      ],
      "metadata": {
        "id": "Pjno3lcwMKob"
      }
    },
    {
      "cell_type": "code",
      "source": [
        "*.log\n",
        "/node_modules"
      ],
      "metadata": {
        "id": "DkNrCuJxL1il"
      },
      "execution_count": null,
      "outputs": []
    },
    {
      "cell_type": "markdown",
      "source": [
        "**Question 4**:\n",
        "\n",
        "You are currently on the main branch and want to switch to a branch named feature-login. Write the Git command to do this.\n",
        "\n",
        "**Answer**:"
      ],
      "metadata": {
        "id": "aaDuswWzMPbB"
      }
    },
    {
      "cell_type": "code",
      "source": [
        "git checkout feature-login"
      ],
      "metadata": {
        "id": "Wc-NP_unMSsf"
      },
      "execution_count": null,
      "outputs": []
    },
    {
      "cell_type": "markdown",
      "source": [
        "**Question 5**:\n",
        "\n",
        "Declare a variable named age using let and assign it the value 25. Then, update its value to 30.\n",
        "\n",
        "**Answer**:"
      ],
      "metadata": {
        "id": "QlXdi9H0MXfd"
      }
    },
    {
      "cell_type": "code",
      "source": [
        "let age = 25;\n",
        "age = 30;"
      ],
      "metadata": {
        "id": "MydKSPkbMZhw"
      },
      "execution_count": null,
      "outputs": []
    },
    {
      "cell_type": "markdown",
      "source": [
        "**Question 6**:\n",
        "\n",
        "Declare a constant named PI with the value 3.14159. Attempting to reassign it should result in an error. Demonstrate this behavior by writing out the outcome.\n",
        "\n",
        "**Answer**:"
      ],
      "metadata": {
        "id": "Fu25UbV3MdIP"
      }
    },
    {
      "cell_type": "code",
      "source": [
        "const PI = 3.14159;\n",
        "PI = 3.14; // TypeError: Assignment to constant variable."
      ],
      "metadata": {
        "id": "uSgYNve1Mg3a"
      },
      "execution_count": null,
      "outputs": []
    },
    {
      "cell_type": "markdown",
      "source": [
        "**Question 7**:\n",
        "\n",
        "You are given the following array:\n",
        "const colors = [\"red\", \"green\", \"blue\", \"yellow\", \"purple\"];\n",
        "1. Access and print the first element of the array.\n",
        "2. Access and print the last element of the array.\n",
        "3. Access and print the third element of the array."
      ],
      "metadata": {
        "id": "L3KwJdYzMiKr"
      }
    },
    {
      "cell_type": "code",
      "source": [
        "//Answer 1:\n",
        "console.log(colors[0]); // red\n",
        "\n",
        "//Answer 2:\n",
        "console.log(colors[colors.length - 1]); // purple\n",
        "\n",
        "//Answer 3:\n",
        "console.log(colors[2]); // blue"
      ],
      "metadata": {
        "id": "2gvugzUOMtuY"
      },
      "execution_count": null,
      "outputs": []
    },
    {
      "cell_type": "markdown",
      "source": [
        "**Question 8**:\n",
        "\n",
        "Given x = 10 and y = 5, write expressions to:\n",
        "1. Add x and y\n",
        "2. Check if x is greater than y\n",
        "3. Check if x is equal to y"
      ],
      "metadata": {
        "id": "kMqoCDIjNBsQ"
      }
    },
    {
      "cell_type": "code",
      "source": [
        "//Answer 1:\n",
        "x + y // 15\n",
        "\n",
        "//Answer 2:\n",
        "x > y // true\n",
        "\n",
        "//Answer 3:\n",
        "x === y // false"
      ],
      "metadata": {
        "id": "S-a_ZJokNEck"
      },
      "execution_count": null,
      "outputs": []
    },
    {
      "cell_type": "markdown",
      "source": [
        "**Question 9**:\n",
        "\n",
        "Identify the data types of the following values:\n",
        "1. \"Hello\"\n",
        "2. 42\n",
        "3. true\n",
        "4. undefined\n",
        "\n",
        "**Answer**:\n",
        "\n",
        "\n",
        "1.   String\n",
        "2.   Number\n",
        "3.   Boolean\n",
        "4.   undefined"
      ],
      "metadata": {
        "id": "JY23mSCINUZK"
      }
    }
  ]
}