{
  "nbformat": 4,
  "nbformat_minor": 0,
  "metadata": {
    "colab": {
      "provenance": []
    },
    "kernelspec": {
      "name": "python3",
      "display_name": "Python 3"
    },
    "language_info": {
      "name": "python"
    }
  },
  "cells": [
    {
      "cell_type": "markdown",
      "source": [
        "Question 1: What are semantic HTML elements? Why is using them important for web development?\n",
        "\n",
        "**Answer**:\n",
        "\n",
        "Semantic HTML elements are HTML tags that clearly describe their meaning both to the browser and the developer. Examples include article, section, header, footer, and nav. These elements improve code readability, accessibility, and SEO. They help assistive technologies understand the structure of the page, and search engines can better index the content."
      ],
      "metadata": {
        "id": "PEwK1KkpL2zE"
      }
    },
    {
      "cell_type": "markdown",
      "source": [
        "Question 2: You're designing a blog page. Which semantic elements would you use to structure the page, and why?\n",
        "\n",
        "**Answer**:\n",
        "\n",
        "To design a blog page, I would use the following semantic elements:\n",
        "\n",
        "- header: For the blog title and navigation links.\n",
        "\n",
        "- nav: For the navigation menu.\n",
        "\n",
        "- main: To wrap the main content of the blog.\n",
        "\n",
        "- article: For each individual blog post.\n",
        "\n",
        "- section: To group related content within an article.\n",
        "\n",
        "- aside: For side content like recent posts, ads, or categories.\n",
        "\n",
        "- footer: For copyright and additional links.\n",
        "These elements make the structure meaningful and improve accessibility and SEO."
      ],
      "metadata": {
        "id": "1sO-V9KYNCzx"
      }
    },
    {
      "cell_type": "markdown",
      "source": [
        "Question 3: How can you make an HTML form more accessible to users with disabilities?\n",
        "\n",
        "**Answer**:\n",
        "\n",
        "To make an HTML form accessible:\n",
        "\n",
        "- Use label elements properly associated with form inputs via the for attribute.\n",
        "\n",
        "- Ensure all form controls have meaningful name and id attributes.\n",
        "\n",
        "- Use aria-* attributes for additional accessibility when needed.\n",
        "\n",
        "- Provide clear instructions and error messages.\n",
        "\n",
        "- Use semantic HTML5 input types (email, tel, number, etc.) for better support by assistive technologies.\n",
        "\n",
        "- Ensure proper tab order and keyboard navigation.\n",
        "\n"
      ],
      "metadata": {
        "id": "bAZQ29yBNmI8"
      }
    },
    {
      "cell_type": "markdown",
      "source": [
        "Question 4: Identify and correct the errors in the following CSS code:\n",
        "\n",
        "p {\n",
        "  font-size: 16;\n",
        "\n",
        "  color: #333\n",
        "  \n",
        "  margin-top 10px;\n",
        "}\n",
        "\n",
        "**Answer**:\n",
        "\n",
        "Corrected CSS code:\n"
      ],
      "metadata": {
        "id": "vVENnfNSODjK"
      }
    },
    {
      "cell_type": "code",
      "source": [
        "p {\n",
        "  font-size: 16px;\n",
        "  color: #333;\n",
        "  margin-top: 10px;\n",
        "}"
      ],
      "metadata": {
        "id": "9mz5xP1QOcVk"
      },
      "execution_count": null,
      "outputs": []
    },
    {
      "cell_type": "markdown",
      "source": [
        "Corrections:\n",
        "\n",
        "- 16 should be 16px (units are required).\n",
        "\n",
        "- Missing semicolon after color: #333.\n",
        "\n",
        "- Missing colon after margin-top."
      ],
      "metadata": {
        "id": "y4REgBe_Ogxi"
      }
    },
    {
      "cell_type": "markdown",
      "source": [
        "Question 5: Write CSS rules to style all h2 elements inside a section with a blue color and center alignment.\n",
        "\n",
        "**Answer** :"
      ],
      "metadata": {
        "id": "C2BkjxgQOwQG"
      }
    },
    {
      "cell_type": "code",
      "source": [
        "section h2 {\n",
        "  color: blue;\n",
        "  text-align: center;\n",
        "}"
      ],
      "metadata": {
        "id": "--1MIcinO1EJ"
      },
      "execution_count": null,
      "outputs": []
    },
    {
      "cell_type": "markdown",
      "source": [
        "Question 6: Explain the CSS box model and its components.\n",
        "\n",
        "**Answer**:\n",
        "\n",
        "The CSS box model is a layout model that defines how elements are displayed on a webpage. It consists of four parts:\n",
        "\n",
        "1. Content: The actual content of the element (text, images, etc.).\n",
        "\n",
        "2. Padding: Space between the content and the border.\n",
        "\n",
        "3. Border: Surrounds the padding and content.\n",
        "\n",
        "4. Margin: Space outside the border, separating the element from others.\n",
        "\n",
        "Understanding the box model is essential for controlling spacing and layout.\n"
      ],
      "metadata": {
        "id": "vVb6sTjiPB_Z"
      }
    },
    {
      "cell_type": "markdown",
      "source": [
        "Question 7: How do the relative, absolute, and fixed positioning properties differ in CSS?\n",
        "\n",
        "**Answer**:\n",
        "\n",
        "- Relative: Positions the element relative to its normal position. It still takes up space in the layout.\n",
        "\n",
        "- Absolute: Removes the element from the normal flow and positions it relative to the nearest positioned ancestor.\n",
        "\n",
        "- Fixed: Positions the element relative to the browser window. It stays in place even when the page is scrolled."
      ],
      "metadata": {
        "id": "v15dJZ3JPU5r"
      }
    },
    {
      "cell_type": "markdown",
      "source": [
        "Question 8: Write a CSS rule to set a background image for a div with the class .banner, ensuring the image covers the entire area without repeating.\n",
        "\n",
        "**Answer** :"
      ],
      "metadata": {
        "id": "N5UV-5EfP5De"
      }
    },
    {
      "cell_type": "code",
      "source": [
        ".banner {\n",
        "  background-image: url('your-image.jpg');\n",
        "  background-size: cover;\n",
        "  background-repeat: no-repeat;\n",
        "  background-position: center;\n",
        "}\n"
      ],
      "metadata": {
        "id": "zTik9Y-oQBCC"
      },
      "execution_count": null,
      "outputs": []
    }
  ]
}