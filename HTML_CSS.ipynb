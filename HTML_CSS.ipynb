{
  "nbformat": 4,
  "nbformat_minor": 0,
  "metadata": {
    "colab": {
      "provenance": []
    },
    "kernelspec": {
      "name": "python3",
      "display_name": "Python 3"
    },
    "language_info": {
      "name": "python"
    }
  },
  "cells": [
    {
      "cell_type": "markdown",
      "source": [
        "Question 1: Create a layout with three boxes side by side using Flexbox. The first box should have twice the width of the other two.\n",
        "\n",
        "**ANSWER**\n",
        "\n",
        "**HTML**:"
      ],
      "metadata": {
        "id": "JYbrV73VDEr2"
      }
    },
    {
      "cell_type": "code",
      "execution_count": null,
      "metadata": {
        "id": "9qgUIBWKC9vI"
      },
      "outputs": [],
      "source": [
        "<div class=\"flex-container\">\n",
        "  <div class=\"box box1\">Box 1</div>\n",
        "  <div class=\"box box2\">Box 2</div>\n",
        "  <div class=\"box box3\">Box 3</div>\n",
        "</div>"
      ]
    },
    {
      "cell_type": "markdown",
      "source": [
        "**CSS**:"
      ],
      "metadata": {
        "id": "NnKK_HD9DP9y"
      }
    },
    {
      "cell_type": "code",
      "source": [
        ".flex-container {\n",
        "  display: flex;\n",
        "}\n",
        "\n",
        ".box {\n",
        "  height: 100px;\n",
        "  background-color: lightblue;\n",
        "  border: 1px solid #000;\n",
        "  text-align: center;\n",
        "  line-height: 100px;\n",
        "}\n",
        "\n",
        ".box1 {\n",
        "  flex: 2;\n",
        "}\n",
        "\n",
        ".box2, .box3 {\n",
        "  flex: 1;\n",
        "}"
      ],
      "metadata": {
        "id": "0Rksy2XeDStN"
      },
      "execution_count": null,
      "outputs": []
    },
    {
      "cell_type": "markdown",
      "source": [
        "Question 2: Using CSS Grid, create a 2x2 grid layout where the first row spans two columns, and the second row has two equal columns.\n",
        "\n",
        "**ANSWER**\n",
        "\n",
        "**HTML**:"
      ],
      "metadata": {
        "id": "-MpggY0uDY0R"
      }
    },
    {
      "cell_type": "code",
      "source": [
        "<div class=\"grid-container\">\n",
        "  <div class=\"item item1\">Item 1</div>\n",
        "  <div class=\"item item2\">Item 2</div>\n",
        "  <div class=\"item item3\">Item 3</div>\n",
        "</div>"
      ],
      "metadata": {
        "id": "OcNYir0rD0Jp"
      },
      "execution_count": null,
      "outputs": []
    },
    {
      "cell_type": "markdown",
      "source": [
        "**CSS**:"
      ],
      "metadata": {
        "id": "97EVoinxD2ns"
      }
    },
    {
      "cell_type": "code",
      "source": [
        ".grid-container {\n",
        "  display: grid;\n",
        "  grid-template-columns: 1fr 1fr;\n",
        "  gap: 10px;\n",
        "}\n",
        "\n",
        ".item1 {\n",
        "  grid-column: 1 / span 2;\n",
        "  background-color: lightcoral;\n",
        "}\n",
        "\n",
        ".item2, .item3 {\n",
        "  background-color: lightgreen;\n",
        "}\n",
        ".item {\n",
        "  padding: 20px;\n",
        "  text-align: center;\n",
        "}"
      ],
      "metadata": {
        "id": "OOm3oHxaD5Dh"
      },
      "execution_count": null,
      "outputs": []
    },
    {
      "cell_type": "markdown",
      "source": [
        "Question 3: Write a media query that changes the background color of the body to light grey when the screen width is less than 600px.\n",
        "\n",
        "**Answer**"
      ],
      "metadata": {
        "id": "1AVezMT-EGLN"
      }
    },
    {
      "cell_type": "code",
      "source": [
        "@media (max-width: 600px) {\n",
        "  body {\n",
        "    background-color: lightgrey;\n",
        "  }\n",
        "}"
      ],
      "metadata": {
        "id": "dlW1Nl5LEMjd"
      },
      "execution_count": null,
      "outputs": []
    },
    {
      "cell_type": "markdown",
      "source": [
        "Question 4: Create a button that changes its background color to blue and scales up slightly when hovered over, using CSS transitions.\n",
        "\n",
        "**Answer**\n",
        "\n",
        "**HTML**:"
      ],
      "metadata": {
        "id": "cEtUyeRpEPWQ"
      }
    },
    {
      "cell_type": "code",
      "source": [
        "<button class=\"hover-btn\">Hover Me</button>"
      ],
      "metadata": {
        "id": "HLP1VNEsERpr"
      },
      "execution_count": null,
      "outputs": []
    },
    {
      "cell_type": "markdown",
      "source": [
        "**CSS**:"
      ],
      "metadata": {
        "id": "nCWXQoz8EbCT"
      }
    },
    {
      "cell_type": "code",
      "source": [
        ".hover-btn {\n",
        "  padding: 10px 20px;\n",
        "  background-color: lightblue;\n",
        "  border: none;\n",
        "  transition: background-color 0.3s ease,transform 0.3s ease;\n",
        "  cursor: pointer;\n",
        "}\n",
        "\n",
        ".hover-btn:hover {\n",
        "  background-color: blue;\n",
        "  transform: scale(1.1);\n",
        "  color: white;\n",
        "}"
      ],
      "metadata": {
        "id": "uyk-5ccIEerU"
      },
      "execution_count": null,
      "outputs": []
    },
    {
      "cell_type": "markdown",
      "source": [
        "Question 5: Use the ::before pseudo-element to add a decorative icon before each list item in an unordered list with the class name decorated-list.\n",
        "\n",
        "**Answer**\n",
        "\n",
        "**HTML**:"
      ],
      "metadata": {
        "id": "G3ygw2lNEpfh"
      }
    },
    {
      "cell_type": "code",
      "source": [
        "<ul class=\"decorated-list\">\n",
        "  <li>First item</li>\n",
        "  <li>Second item</li>\n",
        "  <li>Third item</li>\n",
        "</ul>"
      ],
      "metadata": {
        "id": "ep-Uy_OcEuB0"
      },
      "execution_count": null,
      "outputs": []
    },
    {
      "cell_type": "markdown",
      "source": [
        "**CSS**:"
      ],
      "metadata": {
        "id": "op76-0FVEvxV"
      }
    },
    {
      "cell_type": "code",
      "source": [
        ".decorated-list{\n",
        "    list-style-type:none;\n",
        "}\n",
        "\n",
        ".decorated-list li::before {\n",
        "  content: \"★ \";\n",
        "  color: gold;\n",
        "  margin-right: 8px;\n",
        "}"
      ],
      "metadata": {
        "id": "ViS74ZKMExvr"
      },
      "execution_count": null,
      "outputs": []
    },
    {
      "cell_type": "markdown",
      "source": [
        "Question 6: Create a simple animation that moves a square box from left to right infinitely.\n",
        "\n",
        "**Answer**\n",
        "\n",
        "**HTML**:"
      ],
      "metadata": {
        "id": "drbGK9W2FCDj"
      }
    },
    {
      "cell_type": "code",
      "source": [
        "<div class=\"animated-box\"></div>"
      ],
      "metadata": {
        "id": "35lYwLQXFHSJ"
      },
      "execution_count": null,
      "outputs": []
    },
    {
      "cell_type": "markdown",
      "source": [
        "**CSS**:"
      ],
      "metadata": {
        "id": "rrYMaeLnFIzp"
      }
    },
    {
      "cell_type": "code",
      "source": [
        ".animated-box {\n",
        "  width: 50px;\n",
        "  height: 50px;\n",
        "  background-color: red;\n",
        "  position: relative;\n",
        "  animation: moveRight 2s linear infinite;\n",
        "}\n",
        "\n",
        "@keyframes moveRight {\n",
        "  0% { left: 0; }\n",
        "  100% { left: 100%; }\n",
        "}"
      ],
      "metadata": {
        "id": "CKNbFBZBFLWa"
      },
      "execution_count": null,
      "outputs": []
    },
    {
      "cell_type": "markdown",
      "source": [
        "Question 7: Explain the difference between position: absolute; and position: fixed; in CSS.\n",
        "\n",
        "**Answer**:\n",
        "\n",
        "*   position: absolute; positions the element relative to the nearest positioned ancestor (anything with a position other than static).\n",
        "*   position: fixed; positions the element relative to the viewport, meaning it stays in the same position even when scrolling"
      ],
      "metadata": {
        "id": "sBBXEV3yFRa9"
      }
    },
    {
      "cell_type": "markdown",
      "source": [
        "Question 8: Create a layered layout where a semi-transparent overlay covers an image using z-index.\n",
        "\n",
        "**Answer**\n",
        "\n",
        "**HTML**:"
      ],
      "metadata": {
        "id": "v933Bh2SFhr5"
      }
    },
    {
      "cell_type": "code",
      "source": [
        "<div class=\"image-container\">\n",
        "  <img src=\"your-image.jpg\" alt=\"Image\" class=\"image\">\n",
        "  <div class=\"overlay\"></div>\n",
        "</div>"
      ],
      "metadata": {
        "id": "wA3S29O5FlO9"
      },
      "execution_count": null,
      "outputs": []
    },
    {
      "cell_type": "markdown",
      "source": [
        "**CSS**:"
      ],
      "metadata": {
        "id": "KjBZFvypFo27"
      }
    },
    {
      "cell_type": "code",
      "source": [
        ".image-container {\n",
        "  position: relative;\n",
        "  width: 300px;\n",
        "  height: 200px;\n",
        "}\n",
        "\n",
        ".image {\n",
        "  width: 100%;\n",
        "  height: 100%;\n",
        "  display: block;\n",
        "}\n",
        "\n",
        ".overlay {\n",
        "  position: absolute;\n",
        "  top: 0;\n",
        "  left: 0;\n",
        "  width: 100%;\n",
        "  height: 100%;\n",
        "  background-color: rgba(0, 0, 0, 0.5); /* Semi-transparent black */\n",
        "  z-index: 1;\n",
        "}"
      ],
      "metadata": {
        "id": "uRc2BCWaFrZ4"
      },
      "execution_count": null,
      "outputs": []
    }
  ]
}