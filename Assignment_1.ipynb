{
  "nbformat": 4,
  "nbformat_minor": 0,
  "metadata": {
    "colab": {
      "provenance": []
    },
    "kernelspec": {
      "name": "python3",
      "display_name": "Python 3"
    },
    "language_info": {
      "name": "python"
    }
  },
  "cells": [
    {
      "cell_type": "markdown",
      "source": [
        "Question 1\n"
      ],
      "metadata": {
        "id": "snq_LY_1WIPv"
      }
    },
    {
      "cell_type": "code",
      "execution_count": null,
      "metadata": {
        "id": "inu8qllNVsHK"
      },
      "outputs": [],
      "source": [
        "<html>\n",
        "<head>\n",
        "    <meta charset=\"UTF-8\">\n",
        "    <meta name=\"viewport\" content=\"width=device-width, initial-scale=1.0\">\n",
        "    <title>Document</title>\n",
        "</head>\n",
        "<body>\n",
        "    <h1>\"HTML defines the content and structure of your website\"</h1>\n",
        "</body>\n",
        "</html>"
      ]
    },
    {
      "cell_type": "markdown",
      "source": [
        "Question 2\n",
        "\n",
        "Comments in HTML are used to leave notes or explanations within the HTML code that are not visible to users when the web page is rendered in a browser. They are helpful for:\n",
        "\n",
        "(1)Explaining the structure or purpose of the code.\n",
        "(2)Leaving reminders or to-do notes for developers.\n",
        "(3)Temporarily disabling sections of code during debugging.\n",
        "(4)Making the code more readable and maintainable for yourself or other developers.\n",
        "\n",
        "Syntax:\n",
        "\n",
        "HTML comments are written between `<!--` and `-->`.\n"
      ],
      "metadata": {
        "id": "m4XfWf3-Zeau"
      }
    },
    {
      "cell_type": "code",
      "source": [
        "<html>\n",
        "<head>\n",
        "    <title>My Web Page</title>\n",
        "    <!-- This is the head section where metadata goes -->\n",
        "</head>\n",
        "<body>\n",
        "    <h1>Welcome to My Website</h1>\n",
        "\n",
        "    <!-- This section contains the main content -->\n",
        "    <p>This is a paragraph of text on the web page.</p>\n",
        "\n",
        "    <!-- TODO: Add a contact form here later -->\n",
        "\n",
        "</body>\n",
        "</html>"
      ],
      "metadata": {
        "id": "DsP25OvkZiB0"
      },
      "execution_count": null,
      "outputs": []
    },
    {
      "cell_type": "markdown",
      "source": [
        "Question-3\n"
      ],
      "metadata": {
        "id": "591sHWtiaosK"
      }
    },
    {
      "cell_type": "code",
      "source": [
        "<html>\n",
        "<head>\n",
        "    <title>Simple Web Page</title>\n",
        "</head>\n",
        "<body>\n",
        "    <h1>Welcome to My Simple Web Page</h1>\n",
        "    <hr>\n",
        "    <br>\n",
        "    <p>\n",
        "        This is a basic example of an HTML web page layout. <br>\n",
        "        It includes common elements like headings, paragraphs, horizontal lines, and line breaks.\n",
        "    </p>\n",
        "    <br>\n",
        "</body>\n",
        "</html>"
      ],
      "metadata": {
        "id": "vOJPdiYRaq2z"
      },
      "execution_count": null,
      "outputs": []
    },
    {
      "cell_type": "markdown",
      "source": [
        "Question-4"
      ],
      "metadata": {
        "id": "5q_VGxxybPt8"
      }
    },
    {
      "cell_type": "markdown",
      "source": [
        "Tag:\n",
        "A tag in HTML is a keyword enclosed in angle brackets (< >) that tells the browser how to display content. Tags usually come in pairs: an opening tag and a closing tag , though some are self-closing.\n",
        "\n",
        "Element:\n",
        "An element in HTML is the complete structure, including the opening tag, content, and the closing tag. It represents part of the document's content or structure."
      ],
      "metadata": {
        "id": "h6ZFSMCMbS0Z"
      }
    },
    {
      "cell_type": "markdown",
      "source": [
        "Question-5\n",
        "\n",
        "The <!DOCTYPE> declaration is the very first line in an HTML document. It tells the web browser which version of HTML the document is written in, so the browser can render the page correctly."
      ],
      "metadata": {
        "id": "LaDJ7jw8b9ui"
      }
    }
  ]
}